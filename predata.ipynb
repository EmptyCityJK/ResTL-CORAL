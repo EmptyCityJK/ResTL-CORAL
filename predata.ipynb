{
 "cells": [
  {
   "cell_type": "code",
   "execution_count": 3,
   "metadata": {},
   "outputs": [
    {
     "name": "stdout",
     "output_type": "stream",
     "text": [
      "dict_keys(['__header__', '__version__', '__globals__', 'EEG_MI_train', 'EEG_MI_test'])\n"
     ]
    }
   ],
   "source": [
    "import scipy.io\n",
    "import numpy as np\n",
    "\n",
    "# 加载.mat文件\n",
    "data = scipy.io.loadmat('./openBMI_MI/sess01_subj01_EEG_MI.mat')\n",
    "\n",
    "# 查看文件中的变量名（MATLAB变量会以字典形式存储）\n",
    "print(data.keys())"
   ]
  },
  {
   "cell_type": "code",
   "execution_count": 4,
   "metadata": {},
   "outputs": [
    {
     "name": "stdout",
     "output_type": "stream",
     "text": [
      "EEG_MI_train 类型: <class 'numpy.ndarray'>, 形状: (1, 1)\n",
      "EEG_MI_test 类型: <class 'numpy.ndarray'>, 形状: (1, 1)\n"
     ]
    }
   ],
   "source": [
    "# 查看训练和测试数据的类型和形状\n",
    "train_data = data['EEG_MI_train']\n",
    "test_data = data['EEG_MI_test']\n",
    "print(f\"EEG_MI_train 类型: {type(train_data)}, 形状: {train_data.shape if hasattr(train_data, 'shape') else 'N/A'}\")\n",
    "print(f\"EEG_MI_test 类型: {type(test_data)}, 形状: {test_data.shape if hasattr(test_data, 'shape') else 'N/A'}\")"
   ]
  },
  {
   "cell_type": "code",
   "execution_count": 5,
   "metadata": {},
   "outputs": [
    {
     "name": "stdout",
     "output_type": "stream",
     "text": [
      "Train 结构体字段: ('smt', 'x', 't', 'fs', 'y_dec', 'y_logic', 'y_class', 'class', 'chan', 'ival', 'time_interval', 'EMG', 'EMG_index', 'pre_rest', 'post_rest', 'rest_interval')\n",
      "Test 结构体字段: ('smt', 'x', 't', 'fs', 'y_dec', 'y_logic', 'y_class', 'class', 'chan', 'ival', 'time_interval', 'EMG', 'EMG_index', 'pre_rest', 'post_rest', 'rest_interval')\n"
     ]
    }
   ],
   "source": [
    "# 提取训练和测试数据（此时是形状为 (1,1) 的结构体）\n",
    "train_struct = data['EEG_MI_train'][0, 0]  # 解包 (1,1) 结构体\n",
    "test_struct = data['EEG_MI_test'][0, 0]\n",
    "\n",
    "# 查看结构体的字段名（关键步骤！）\n",
    "print(\"Train 结构体字段:\", train_struct.dtype.names)\n",
    "print(\"Test 结构体字段:\", test_struct.dtype.names)"
   ]
  },
  {
   "cell_type": "code",
   "execution_count": null,
   "metadata": {},
   "outputs": [
    {
     "name": "stdout",
     "output_type": "stream",
     "text": [
      "(4000, 100, 62)\n",
      "EEG 数据形状: (1418040, 62)\n",
      "时间点形状: (1, 100)\n",
      "前2个取样点 [198717 210033]\n",
      "采样率: 1000 Hz\n",
      "前两个y标签 [1 2]\n",
      "前两个y标签逻辑值 [1 0]\n",
      "前两个y标签的类 [array(['right'], dtype='<U5') array(['left'], dtype='<U4')]\n",
      "类别: [[array(['1'], dtype='<U1') array(['right'], dtype='<U5')]\n",
      " [array(['2'], dtype='<U1') array(['left'], dtype='<U4')]]\n",
      "通道数量: 62\n",
      "任务有效分析时间窗 [[   0 4000]]\n",
      "休息状态记录时间窗 [[    0 60000]]\n"
     ]
    }
   ],
   "source": [
    "import numpy as np\n",
    "import matplotlib.pyplot as plt\n",
    "\n",
    "# 假设已加载数据 train_struct 和 test_struct\n",
    "# 提取训练集数据\n",
    "x_train = train_struct['x'] \n",
    "t_train = train_struct['t']  # 时间点 (1, 100)\n",
    "fs = train_struct['fs'][0, 0]      # 采样率 (Hz)\n",
    "chan = train_struct['chan'][0]     # 通道名称列表\n",
    "class_names = train_struct['class'][0]  # 类别名称\n",
    "y_dec = train_struct['y_dec'][0, 0]  # 解码标签 (1, 100)\n",
    "\n",
    "# 打印基本信息\n",
    "print(train_struct['smt'].shape)  # 打印smt的形状\n",
    "print(\"EEG 数据形状:\", train_struct['x'].shape)  # 例如 (1418040, 62)\n",
    "print(\"时间点形状:\", train_struct['t'].shape)    # 例如 (1, 100)\n",
    "print(\"前2个取样点\", train_struct['t'][0, :2])  # 打印前10个时间点\n",
    "print(\"采样率:\", train_struct['fs'][0, 0], \"Hz\")\n",
    "print(\"前两个y标签\", train_struct['y_dec'][0, :2])  # 打印标签列表形状 1 2序列\n",
    "print(\"前两个y标签逻辑值\", train_struct['y_logic'][0, :2])  # 打印逻辑标签形状 (2, 100) 0 1序列\n",
    "print(\"前两个y标签的类\", train_struct['y_class'][0, :2])  # 打印类别标签形状 (1, 100)\n",
    "print(\"类别:\", train_struct['class'])\n",
    "print(\"通道数量:\", len(train_struct['chan'][0]))\n",
    "# print(\"类别:\", class_names)\n",
    "print(\"任务有效分析时间窗\", train_struct['time_interval'])  # (1, 2)\n",
    "print(\"休息状态记录时间窗\", train_struct['rest_interval']) # [[    0 60000]]"
   ]
  },
  {
   "cell_type": "code",
   "execution_count": null,
   "metadata": {},
   "outputs": [],
   "source": []
  }
 ],
 "metadata": {
  "kernelspec": {
   "display_name": "pytorch",
   "language": "python",
   "name": "python3"
  },
  "language_info": {
   "codemirror_mode": {
    "name": "ipython",
    "version": 3
   },
   "file_extension": ".py",
   "mimetype": "text/x-python",
   "name": "python",
   "nbconvert_exporter": "python",
   "pygments_lexer": "ipython3",
   "version": "3.9.20"
  }
 },
 "nbformat": 4,
 "nbformat_minor": 2
}
